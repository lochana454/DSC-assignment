{
  "nbformat": 4,
  "nbformat_minor": 0,
  "metadata": {
    "kernelspec": {
      "display_name": "Python 3",
      "language": "python",
      "name": "python3"
    },
    "language_info": {
      "codemirror_mode": {
        "name": "ipython",
        "version": 3
      },
      "file_extension": ".py",
      "mimetype": "text/x-python",
      "name": "python",
      "nbconvert_exporter": "python",
      "pygments_lexer": "ipython3",
      "version": "3.6.9"
    },
    "colab": {
      "name": "Numpy_Assignment (4).ipynb",
      "provenance": [],
      "collapsed_sections": [],
      "include_colab_link": true
    }
  },
  "cells": [
    {
      "cell_type": "markdown",
      "metadata": {
        "id": "view-in-github",
        "colab_type": "text"
      },
      "source": [
        "<a href=\"https://colab.research.google.com/github/lochana454/DSC-assignment/blob/master/Numpy_Assignment_(4).ipynb\" target=\"_parent\"><img src=\"https://colab.research.google.com/assets/colab-badge.svg\" alt=\"Open In Colab\"/></a>"
      ]
    },
    {
      "cell_type": "markdown",
      "metadata": {
        "id": "x4oXo_6O7Fzl"
      },
      "source": [
        "# Numpy assignment\n",
        "- Different tasks will be detailed by comments or text.\n",
        "- For further reference and resources, it's advised to check out the NumPy documentation."
      ]
    },
    {
      "cell_type": "code",
      "metadata": {
        "id": "_RUzi4mf7Fzs"
      },
      "source": [
        "# Import NumPy as its abbreviation 'np'\n",
        "import numpy as np"
      ],
      "execution_count": null,
      "outputs": []
    },
    {
      "cell_type": "code",
      "metadata": {
        "id": "gcdqXInw7F0M",
        "outputId": "c2b1a2c0-64c2-4f20-b386-ab1a1c2e9144",
        "colab": {
          "base_uri": "https://localhost:8080/",
          "height": 51
        }
      },
      "source": [
        "# Create a 1-dimensional NumPy array using np.array()\n",
        "a1 = np.array([1,2,3])\n",
        "a1\n",
        " \n",
        "# Create a 2-dimensional NumPy array using np.array()\n",
        "a2 = np.array([[1,2.0,3.4],[4,5,6.6]])\n",
        "a2"
      ],
      "execution_count": null,
      "outputs": [
        {
          "output_type": "execute_result",
          "data": {
            "text/plain": [
              "array([[1. , 2. , 3.4],\n",
              "       [4. , 5. , 6.6]])"
            ]
          },
          "metadata": {
            "tags": []
          },
          "execution_count": 6
        }
      ]
    },
    {
      "cell_type": "code",
      "metadata": {
        "id": "kYEAABsq7F0m",
        "outputId": "84d67ea8-72e6-4fad-8415-37b3375804c1",
        "colab": {
          "base_uri": "https://localhost:8080/",
          "height": 54
        }
      },
      "source": [
        "# Attributes of 1-dimensional array (shape, number of dimensions, data type, size and type)\n",
        "a1=np.array([1,2,3])\n",
        "a1.shape,a1.ndim,a1.dtype,a1.size,type(a1)"
      ],
      "execution_count": null,
      "outputs": [
        {
          "output_type": "execute_result",
          "data": {
            "text/plain": [
              "((3,), 1, dtype('int64'), 3, numpy.ndarray)"
            ]
          },
          "metadata": {
            "tags": []
          },
          "execution_count": 7
        }
      ]
    },
    {
      "cell_type": "code",
      "metadata": {
        "id": "f5VC23ag7F1A",
        "outputId": "4a950dbb-7506-41df-d6fd-9e8141d94f8b",
        "colab": {
          "base_uri": "https://localhost:8080/",
          "height": 54
        }
      },
      "source": [
        "# Attributes of 2-dimensional array\n",
        "a2=np.array([[1,2.0,3.4],[4,5,6.6]])\n",
        "a2.shape,a2.ndim,a2.dtype,a2.size,type(a2)"
      ],
      "execution_count": null,
      "outputs": [
        {
          "output_type": "execute_result",
          "data": {
            "text/plain": [
              "((2, 3), 2, dtype('float64'), 6, numpy.ndarray)"
            ]
          },
          "metadata": {
            "tags": []
          },
          "execution_count": 8
        }
      ]
    },
    {
      "cell_type": "code",
      "metadata": {
        "id": "_TCWzh-S7F1Z",
        "outputId": "34f81d8d-666c-4cc6-f39e-60ad33ff6995",
        "colab": {
          "base_uri": "https://localhost:8080/",
          "height": 102
        }
      },
      "source": [
        "# Create an array of shape (5, 5) with only ones\n",
        "a=np.ones([5,5])\n",
        "a"
      ],
      "execution_count": null,
      "outputs": [
        {
          "output_type": "execute_result",
          "data": {
            "text/plain": [
              "array([[1., 1., 1., 1., 1.],\n",
              "       [1., 1., 1., 1., 1.],\n",
              "       [1., 1., 1., 1., 1.],\n",
              "       [1., 1., 1., 1., 1.],\n",
              "       [1., 1., 1., 1., 1.]])"
            ]
          },
          "metadata": {
            "tags": []
          },
          "execution_count": 9
        }
      ]
    },
    {
      "cell_type": "code",
      "metadata": {
        "id": "LsBiiWjk7F15",
        "outputId": "f51591f2-9982-44e3-dda3-3ff81366d7be",
        "colab": {
          "base_uri": "https://localhost:8080/",
          "height": 204
        }
      },
      "source": [
        "# Create an array of shape (3, 3, 5) with only zeros\n",
        "a=np.zeros([3,3,5])\n",
        "a"
      ],
      "execution_count": null,
      "outputs": [
        {
          "output_type": "execute_result",
          "data": {
            "text/plain": [
              "array([[[0., 0., 0., 0., 0.],\n",
              "        [0., 0., 0., 0., 0.],\n",
              "        [0., 0., 0., 0., 0.]],\n",
              "\n",
              "       [[0., 0., 0., 0., 0.],\n",
              "        [0., 0., 0., 0., 0.],\n",
              "        [0., 0., 0., 0., 0.]],\n",
              "\n",
              "       [[0., 0., 0., 0., 0.],\n",
              "        [0., 0., 0., 0., 0.],\n",
              "        [0., 0., 0., 0., 0.]]])"
            ]
          },
          "metadata": {
            "tags": []
          },
          "execution_count": 10
        }
      ]
    },
    {
      "cell_type": "code",
      "metadata": {
        "id": "Ianu8sfT7F2S",
        "outputId": "6084def5-c6e3-44e8-e549-9122085e91ed",
        "colab": {
          "base_uri": "https://localhost:8080/",
          "height": 136
        }
      },
      "source": [
        "# Create a random array with numbers between 0 and 10 of size(7, 2)\n",
        "import numpy as np\n",
        "np.random.randint(10, size=(7, 2))"
      ],
      "execution_count": null,
      "outputs": [
        {
          "output_type": "execute_result",
          "data": {
            "text/plain": [
              "array([[6, 3],\n",
              "       [7, 4],\n",
              "       [6, 9],\n",
              "       [2, 6],\n",
              "       [7, 4],\n",
              "       [3, 7],\n",
              "       [7, 2]])"
            ]
          },
          "metadata": {
            "tags": []
          },
          "execution_count": 38
        }
      ]
    },
    {
      "cell_type": "code",
      "metadata": {
        "id": "Mj6PUZ9p7F2t",
        "outputId": "42495f5e-2e7a-47c4-c8b0-21d9d82771e0",
        "colab": {
          "base_uri": "https://localhost:8080/",
          "height": 88
        }
      },
      "source": [
        "# Create a random array of floats between 0 & 1 of shape (3, 5)\n",
        "from numpy import random\n",
        "X=random.rand(3,5)\n",
        "X"
      ],
      "execution_count": null,
      "outputs": [
        {
          "output_type": "execute_result",
          "data": {
            "text/plain": [
              "array([[0.26579723, 0.11889876, 0.6742909 , 0.61982246, 0.80914206],\n",
              "       [0.15073405, 0.73032986, 0.83644926, 0.80461747, 0.47694573],\n",
              "       [0.4890068 , 0.77030263, 0.51249158, 0.17364561, 0.06533763]])"
            ]
          },
          "metadata": {
            "tags": []
          },
          "execution_count": 13
        }
      ]
    },
    {
      "cell_type": "code",
      "metadata": {
        "id": "JCNHQ2hi7F3B",
        "outputId": "eec504f5-ec3b-4732-a37e-423e67195413",
        "colab": {
          "base_uri": "https://localhost:8080/",
          "height": 122
        }
      },
      "source": [
        "# Create an array of normally distributed random numbers\n",
        "np.random.randn(5, 3)"
      ],
      "execution_count": null,
      "outputs": [
        {
          "output_type": "execute_result",
          "data": {
            "text/plain": [
              "array([[-0.46947439,  0.54256004, -0.46341769],\n",
              "       [-0.46572975,  0.24196227, -1.91328024],\n",
              "       [-1.72491783, -0.56228753, -1.01283112],\n",
              "       [ 0.31424733, -0.90802408, -1.4123037 ],\n",
              "       [ 1.46564877, -0.2257763 ,  0.0675282 ]])"
            ]
          },
          "metadata": {
            "tags": []
          },
          "execution_count": 39
        }
      ]
    },
    {
      "cell_type": "code",
      "metadata": {
        "id": "zM0mk-VI7F3a",
        "outputId": "2d65a4dc-b680-48c5-9332-98ff4bcb812f",
        "colab": {
          "base_uri": "https://localhost:8080/",
          "height": 85
        }
      },
      "source": [
        "# Set the random seed to 42\n",
        " \n",
        "np.random.seed(42)\n",
        "# Create a random array of numbers between 0 & 10 of size (4, 6)\n",
        "random_array = np.random.randint(10, size=(4,6))\n",
        "random_array"
      ],
      "execution_count": null,
      "outputs": [
        {
          "output_type": "execute_result",
          "data": {
            "text/plain": [
              "array([[6, 3, 7, 4, 6, 9],\n",
              "       [2, 6, 7, 4, 3, 7],\n",
              "       [7, 2, 5, 4, 1, 7],\n",
              "       [5, 1, 4, 0, 9, 5]])"
            ]
          },
          "metadata": {
            "tags": []
          },
          "execution_count": 40
        }
      ]
    },
    {
      "cell_type": "code",
      "metadata": {
        "id": "h9I9JeCw7F3w",
        "outputId": "fe65e460-469e-4112-9b5a-b4922aa5fefc",
        "colab": {
          "base_uri": "https://localhost:8080/",
          "height": 85
        }
      },
      "source": [
        "# Copy the code from the cell above and run it again\n",
        "np.random.seed(42)\n",
        "a2=np.random.randint(10, size=(4,6))\n",
        "a2"
      ],
      "execution_count": null,
      "outputs": [
        {
          "output_type": "execute_result",
          "data": {
            "text/plain": [
              "array([[6, 3, 7, 4, 6, 9],\n",
              "       [2, 6, 7, 4, 3, 7],\n",
              "       [7, 2, 5, 4, 1, 7],\n",
              "       [5, 1, 4, 0, 9, 5]])"
            ]
          },
          "metadata": {
            "tags": []
          },
          "execution_count": 50
        }
      ]
    },
    {
      "cell_type": "code",
      "metadata": {
        "id": "_ZShDexg7F4F",
        "outputId": "6e3fddf0-9013-44c4-b0fe-bfab6389bbc2",
        "colab": {
          "base_uri": "https://localhost:8080/",
          "height": 34
        }
      },
      "source": [
        "# Find the 0'th index of the latest array you created\n",
        "a2[0,0]"
      ],
      "execution_count": null,
      "outputs": [
        {
          "output_type": "execute_result",
          "data": {
            "text/plain": [
              "6"
            ]
          },
          "metadata": {
            "tags": []
          },
          "execution_count": 52
        }
      ]
    },
    {
      "cell_type": "code",
      "metadata": {
        "id": "R0n-P7TS7F4d",
        "outputId": "6faada9a-4111-4b50-c970-a7b002646daf",
        "colab": {
          "base_uri": "https://localhost:8080/",
          "height": 51
        }
      },
      "source": [
        "# Get the first 2 rows of latest array you created\n",
        "a2[0:2]"
      ],
      "execution_count": null,
      "outputs": [
        {
          "output_type": "execute_result",
          "data": {
            "text/plain": [
              "array([[6, 3, 7, 4, 6, 9],\n",
              "       [2, 6, 7, 4, 3, 7]])"
            ]
          },
          "metadata": {
            "tags": []
          },
          "execution_count": 54
        }
      ]
    },
    {
      "cell_type": "code",
      "metadata": {
        "id": "6Dln9gi47F4z",
        "outputId": "a31698e2-d360-4c97-a73a-44b5c8ba2c23",
        "colab": {
          "base_uri": "https://localhost:8080/",
          "height": 51
        }
      },
      "source": [
        "# Get the first 2 values of the first 2 rows of the latest array\n",
        "a2[:2,:2]"
      ],
      "execution_count": null,
      "outputs": [
        {
          "output_type": "execute_result",
          "data": {
            "text/plain": [
              "array([[6, 3],\n",
              "       [2, 6]])"
            ]
          },
          "metadata": {
            "tags": []
          },
          "execution_count": 58
        }
      ]
    },
    {
      "cell_type": "code",
      "metadata": {
        "id": "rzeKD4bx7F5O"
      },
      "source": [
        "# Create a random array of numbers between 0 & 10 and an array of ones both of size (3, 5), save them both to variables\n",
        "a1,a2=np.random.randint(10, size=(3,5)),np.ones( [3,5])"
      ],
      "execution_count": null,
      "outputs": []
    },
    {
      "cell_type": "code",
      "metadata": {
        "id": "h8w8-4bm7F5p",
        "outputId": "1647f590-f0bf-4946-9305-62f86afbcc3c",
        "colab": {
          "base_uri": "https://localhost:8080/",
          "height": 88
        }
      },
      "source": [
        "# Add the two arrays together\n",
        "a1+a2"
      ],
      "execution_count": null,
      "outputs": [
        {
          "output_type": "execute_result",
          "data": {
            "text/plain": [
              "array([[ 4.,  9.,  2., 10.,  9.],\n",
              "       [10.,  5.,  2.,  4.,  7.],\n",
              "       [ 8.,  3.,  1.,  4.,  2.]])"
            ]
          },
          "metadata": {
            "tags": []
          },
          "execution_count": 68
        }
      ]
    },
    {
      "cell_type": "code",
      "metadata": {
        "id": "fmfcV82g7F5-",
        "outputId": "9138388f-9847-423d-b2be-5030f369f5bc",
        "colab": {
          "base_uri": "https://localhost:8080/",
          "height": 102
        }
      },
      "source": [
        "# Create another array of ones of shape (5, 3)\n",
        "b=np.ones([5,3])\n",
        "b"
      ],
      "execution_count": null,
      "outputs": [
        {
          "output_type": "execute_result",
          "data": {
            "text/plain": [
              "array([[1., 1., 1.],\n",
              "       [1., 1., 1.],\n",
              "       [1., 1., 1.],\n",
              "       [1., 1., 1.],\n",
              "       [1., 1., 1.]])"
            ]
          },
          "metadata": {
            "tags": []
          },
          "execution_count": 65
        }
      ]
    },
    {
      "cell_type": "code",
      "metadata": {
        "id": "bOq0nIVF7F6U",
        "outputId": "90b602e8-57bc-4007-f409-a008a1fe00c0",
        "colab": {
          "base_uri": "https://localhost:8080/",
          "height": 350
        }
      },
      "source": [
        "# Try add the array of ones and the other most recent array together # You can anticipate an error\n",
        "a2+b"
      ],
      "execution_count": null,
      "outputs": [
        {
          "output_type": "error",
          "ename": "ValueError",
          "evalue": "ignored",
          "traceback": [
            "\u001b[0;31m---------------------------------------------------------------------------\u001b[0m",
            "\u001b[0;31mValueError\u001b[0m                                Traceback (most recent call last)",
            "\u001b[0;32m<ipython-input-70-dd929eb4da80>\u001b[0m in \u001b[0;36m<module>\u001b[0;34m()\u001b[0m\n\u001b[1;32m      1\u001b[0m \u001b[0;31m# Try add the array of ones and the other most recent array together # You can anticipate an error\u001b[0m\u001b[0;34m\u001b[0m\u001b[0;34m\u001b[0m\u001b[0;34m\u001b[0m\u001b[0m\n\u001b[0;32m----> 2\u001b[0;31m \u001b[0ma2\u001b[0m\u001b[0;34m+\u001b[0m\u001b[0mb\u001b[0m\u001b[0;34m\u001b[0m\u001b[0;34m\u001b[0m\u001b[0m\n\u001b[0m",
            "\u001b[0;31mValueError\u001b[0m: operands could not be broadcast together with shapes (3,5) (5,3) "
          ]
        }
      ]
    },
    {
      "cell_type": "code",
      "metadata": {
        "id": "ufM5zSyK7F6s",
        "outputId": "bfb9220f-70a9-42df-d1ad-5a236c7f2138",
        "colab": {
          "base_uri": "https://localhost:8080/",
          "height": 102
        }
      },
      "source": [
        "# Do the same operation you just did but this time with a transpose on one array\n",
        "a2.T\n",
        "c=a2.T+b\n",
        "c"
      ],
      "execution_count": null,
      "outputs": [
        {
          "output_type": "execute_result",
          "data": {
            "text/plain": [
              "array([[2., 2., 2.],\n",
              "       [2., 2., 2.],\n",
              "       [2., 2., 2.],\n",
              "       [2., 2., 2.],\n",
              "       [2., 2., 2.]])"
            ]
          },
          "metadata": {
            "tags": []
          },
          "execution_count": 84
        }
      ]
    },
    {
      "cell_type": "code",
      "metadata": {
        "id": "apuft60C7F7F",
        "outputId": "35a33443-ec0b-4dde-8316-8d4cc3b9813e",
        "colab": {
          "base_uri": "https://localhost:8080/",
          "height": 102
        }
      },
      "source": [
        "# Take the latest array to the power of 2 using the python way\n",
        "c**2"
      ],
      "execution_count": null,
      "outputs": [
        {
          "output_type": "execute_result",
          "data": {
            "text/plain": [
              "array([[4., 4., 4.],\n",
              "       [4., 4., 4.],\n",
              "       [4., 4., 4.],\n",
              "       [4., 4., 4.],\n",
              "       [4., 4., 4.]])"
            ]
          },
          "metadata": {
            "tags": []
          },
          "execution_count": 85
        }
      ]
    },
    {
      "cell_type": "code",
      "metadata": {
        "id": "kU9UHeBk7F7b",
        "outputId": "8f188075-e2d6-439a-85ac-5cb40734552f",
        "colab": {
          "base_uri": "https://localhost:8080/",
          "height": 102
        }
      },
      "source": [
        "# Do the same thing with numpy way\n",
        "np.square(c)"
      ],
      "execution_count": null,
      "outputs": [
        {
          "output_type": "execute_result",
          "data": {
            "text/plain": [
              "array([[4., 4., 4.],\n",
              "       [4., 4., 4.],\n",
              "       [4., 4., 4.],\n",
              "       [4., 4., 4.],\n",
              "       [4., 4., 4.]])"
            ]
          },
          "metadata": {
            "tags": []
          },
          "execution_count": 87
        }
      ]
    },
    {
      "cell_type": "code",
      "metadata": {
        "id": "inPVCHQO7F7v",
        "outputId": "b4d6a285-79d9-421a-cf9d-d966864b7f54",
        "colab": {
          "base_uri": "https://localhost:8080/",
          "height": 54
        }
      },
      "source": [
        "# Find the mean, min, max, standard deviation, variance of the latest array using np.mean()\n",
        "print(\"mean =\",np.mean(c),\"     \",\"min = \",np.min(c),\"    \",\"max = \",np.max(c),\"    \",\"standard deviation = \", np.sqrt(np.mean((c - np.mean(c)) ** 2 )),\"     \",\"variance = \",np.mean((c - np.mean(c)) ** 2 ))"
      ],
      "execution_count": null,
      "outputs": [
        {
          "output_type": "stream",
          "text": [
            "mean = 2.0       min =  2.0      max =  2.0      standard deviation =  0.0       variance =  0.0\n"
          ],
          "name": "stdout"
        }
      ]
    },
    {
      "cell_type": "code",
      "metadata": {
        "id": "c1MHgzUz7F8G",
        "outputId": "16fcacaa-309a-4ad7-9bf9-c706299fe406",
        "colab": {
          "base_uri": "https://localhost:8080/",
          "height": 122
        }
      },
      "source": [
        "# Create two arrays of random integers between 0 to 10 one of size (3, 3) the other of size (3, 2)\n",
        "a =np.random.randint(10, size=(3,3))\n",
        "z =np.random.randint(10, size=(3,2))\n",
        "a , z"
      ],
      "execution_count": null,
      "outputs": [
        {
          "output_type": "execute_result",
          "data": {
            "text/plain": [
              "(array([[7, 3, 1],\n",
              "        [5, 5, 9],\n",
              "        [3, 5, 1]]), array([[9, 1],\n",
              "        [9, 3],\n",
              "        [7, 6]]))"
            ]
          },
          "metadata": {
            "tags": []
          },
          "execution_count": 92
        }
      ]
    },
    {
      "cell_type": "code",
      "metadata": {
        "id": "mluWbEZ57F8a",
        "outputId": "183eef7f-6d3e-499e-c825-6fd06b5141dd",
        "colab": {
          "base_uri": "https://localhost:8080/",
          "height": 68
        }
      },
      "source": [
        "# Perform a dot product on the two newest arrays you created\n",
        "np.dot(a,z)"
      ],
      "execution_count": null,
      "outputs": [
        {
          "output_type": "execute_result",
          "data": {
            "text/plain": [
              "array([[ 97,  22],\n",
              "       [153,  74],\n",
              "       [ 79,  24]])"
            ]
          },
          "metadata": {
            "tags": []
          },
          "execution_count": 93
        }
      ]
    },
    {
      "cell_type": "code",
      "metadata": {
        "id": "tbfaGe5D7F8y"
      },
      "source": [
        "# Create two arrays of random integers between 0 to 10 both of size (4, 3)\n",
        "arr1 ,arr2=np.random.randint(10, size=(4,3)),np.random.randint(10, size=(4,3))"
      ],
      "execution_count": null,
      "outputs": []
    },
    {
      "cell_type": "code",
      "metadata": {
        "id": "AycOVpLg7F9G",
        "outputId": "02e2fa74-ef52-49d9-b60c-ccbc88667ee3",
        "colab": {
          "base_uri": "https://localhost:8080/",
          "height": 85
        }
      },
      "source": [
        "# Perform a hadamard product on the two newest arrays you cr\n",
        "np.multiply( arr1,arr2)"
      ],
      "execution_count": null,
      "outputs": [
        {
          "output_type": "execute_result",
          "data": {
            "text/plain": [
              "array([[32,  0,  4],\n",
              "       [20, 72, 15],\n",
              "       [ 8, 14,  0],\n",
              "       [14,  2, 64]])"
            ]
          },
          "metadata": {
            "tags": []
          },
          "execution_count": 23
        }
      ]
    },
    {
      "cell_type": "code",
      "metadata": {
        "id": "hLdWooqk7F9f",
        "outputId": "88bcae27-3ef3-4b4f-e3bb-6cb5373919ec",
        "colab": {
          "base_uri": "https://localhost:8080/",
          "height": 384
        }
      },
      "source": [
        "# Perform a dot product on the two newest arrays you created # Error anticipated\n",
        "np.dot(arr1,arr2)"
      ],
      "execution_count": null,
      "outputs": [
        {
          "output_type": "error",
          "ename": "ValueError",
          "evalue": "ignored",
          "traceback": [
            "\u001b[0;31m---------------------------------------------------------------------------\u001b[0m",
            "\u001b[0;31mValueError\u001b[0m                                Traceback (most recent call last)",
            "\u001b[0;32m<ipython-input-24-a31543674d11>\u001b[0m in \u001b[0;36m<module>\u001b[0;34m()\u001b[0m\n\u001b[1;32m      1\u001b[0m \u001b[0;31m# Perform a dot product on the two newest arrays you created # Error anticipated\u001b[0m\u001b[0;34m\u001b[0m\u001b[0;34m\u001b[0m\u001b[0;34m\u001b[0m\u001b[0m\n\u001b[0;32m----> 2\u001b[0;31m \u001b[0mnp\u001b[0m\u001b[0;34m.\u001b[0m\u001b[0mdot\u001b[0m\u001b[0;34m(\u001b[0m\u001b[0marr1\u001b[0m\u001b[0;34m,\u001b[0m\u001b[0marr2\u001b[0m\u001b[0;34m)\u001b[0m\u001b[0;34m\u001b[0m\u001b[0;34m\u001b[0m\u001b[0m\n\u001b[0m",
            "\u001b[0;32m<__array_function__ internals>\u001b[0m in \u001b[0;36mdot\u001b[0;34m(*args, **kwargs)\u001b[0m\n",
            "\u001b[0;31mValueError\u001b[0m: shapes (4,3) and (4,3) not aligned: 3 (dim 1) != 4 (dim 0)"
          ]
        }
      ]
    },
    {
      "cell_type": "code",
      "metadata": {
        "id": "ziT9DZOe7F90",
        "outputId": "52019e29-64de-4106-ec92-48002da09662",
        "colab": {
          "base_uri": "https://localhost:8080/",
          "height": 85
        }
      },
      "source": [
        "# Take the latest two arrays, perform a transpose on one of them and then perform a dot product on them both\n",
        "np.dot(arr1,arr2.T)"
      ],
      "execution_count": null,
      "outputs": [
        {
          "output_type": "execute_result",
          "data": {
            "text/plain": [
              "array([[ 36,  42,  32,  72],\n",
              "       [ 98, 107,  83,  68],\n",
              "       [ 36,  54,  22,  64],\n",
              "       [ 40,  64,  22,  80]])"
            ]
          },
          "metadata": {
            "tags": []
          },
          "execution_count": 26
        }
      ]
    },
    {
      "cell_type": "code",
      "metadata": {
        "id": "cfxUoso47F-F"
      },
      "source": [
        "# Create two arrays of random integers between 0 & 10 of the same shape and save them to variables\n",
        "A,B=np.random.randint(10, size=(3,4)),np.random.randint(10, size=(3,4))"
      ],
      "execution_count": null,
      "outputs": []
    },
    {
      "cell_type": "code",
      "metadata": {
        "id": "RVpHFko87F-b",
        "outputId": "ff0892e1-34da-4157-ef39-8f731425affc",
        "colab": {
          "base_uri": "https://localhost:8080/",
          "height": 170
        }
      },
      "source": [
        "# Compare the two arrays with '>', '<=' and '==' \n",
        "print(A>B)\n",
        "print(A<=B)\n",
        "print(A==B)"
      ],
      "execution_count": null,
      "outputs": [
        {
          "output_type": "stream",
          "text": [
            "[[ True  True  True False]\n",
            " [False  True  True False]\n",
            " [False  True False  True]]\n",
            "[[False False False  True]\n",
            " [ True False False  True]\n",
            " [ True False  True False]]\n",
            "[[False False False False]\n",
            " [ True False False False]\n",
            " [False False False False]]\n"
          ],
          "name": "stdout"
        }
      ]
    },
    {
      "cell_type": "code",
      "metadata": {
        "id": "GikHGD7d7F-u",
        "outputId": "ccaca97f-fc94-4a7e-c5e3-4d4b6e84bd75",
        "colab": {
          "base_uri": "https://localhost:8080/",
          "height": 68
        }
      },
      "source": [
        "# Sort one of the arrays you just created in ascending order\n",
        "np.sort(A)"
      ],
      "execution_count": null,
      "outputs": [
        {
          "output_type": "execute_result",
          "data": {
            "text/plain": [
              "array([[2, 5, 9, 9],\n",
              "       [0, 1, 1, 9],\n",
              "       [2, 6, 8, 9]])"
            ]
          },
          "metadata": {
            "tags": []
          },
          "execution_count": 29
        }
      ]
    },
    {
      "cell_type": "code",
      "metadata": {
        "id": "WlsVqjdD7F-_",
        "outputId": "50cea585-28a0-4e66-8a66-e71154990f17",
        "colab": {
          "base_uri": "https://localhost:8080/",
          "height": 68
        }
      },
      "source": [
        "# Sort the indexes of one of the arrays you just created\n",
        "np.argsort(B)"
      ],
      "execution_count": null,
      "outputs": [
        {
          "output_type": "execute_result",
          "data": {
            "text/plain": [
              "array([[1, 2, 3, 0],\n",
              "       [2, 0, 1, 3],\n",
              "       [1, 0, 3, 2]])"
            ]
          },
          "metadata": {
            "tags": []
          },
          "execution_count": 30
        }
      ]
    },
    {
      "cell_type": "code",
      "metadata": {
        "id": "P-CTz5eQ7F_Q",
        "outputId": "6d8c676f-dcc5-4396-eeda-dc72e45b28ce",
        "colab": {
          "base_uri": "https://localhost:8080/",
          "height": 54
        }
      },
      "source": [
        "# Find the index with the maximum value in one of the arrays you've created\n",
        "np.where(A == np.max(A))"
      ],
      "execution_count": null,
      "outputs": [
        {
          "output_type": "execute_result",
          "data": {
            "text/plain": [
              "(array([0, 0, 1, 2]), array([0, 1, 1, 1]))"
            ]
          },
          "metadata": {
            "tags": []
          },
          "execution_count": 31
        }
      ]
    },
    {
      "cell_type": "code",
      "metadata": {
        "id": "cBa2MEiJ7F_h",
        "outputId": "6f837906-d74d-4014-8c94-9749cbd2f15d",
        "colab": {
          "base_uri": "https://localhost:8080/",
          "height": 139
        }
      },
      "source": [
        "# Create an array with 10 evenly spaced numbers between 1 and 100\n",
        "np.arange(100)"
      ],
      "execution_count": null,
      "outputs": [
        {
          "output_type": "execute_result",
          "data": {
            "text/plain": [
              "array([ 0,  1,  2,  3,  4,  5,  6,  7,  8,  9, 10, 11, 12, 13, 14, 15, 16,\n",
              "       17, 18, 19, 20, 21, 22, 23, 24, 25, 26, 27, 28, 29, 30, 31, 32, 33,\n",
              "       34, 35, 36, 37, 38, 39, 40, 41, 42, 43, 44, 45, 46, 47, 48, 49, 50,\n",
              "       51, 52, 53, 54, 55, 56, 57, 58, 59, 60, 61, 62, 63, 64, 65, 66, 67,\n",
              "       68, 69, 70, 71, 72, 73, 74, 75, 76, 77, 78, 79, 80, 81, 82, 83, 84,\n",
              "       85, 86, 87, 88, 89, 90, 91, 92, 93, 94, 95, 96, 97, 98, 99])"
            ]
          },
          "metadata": {
            "tags": []
          },
          "execution_count": 32
        }
      ]
    },
    {
      "cell_type": "code",
      "metadata": {
        "id": "SNXQjqEq7F_y",
        "outputId": "4f3c277a-4017-426a-a8a1-5ae17cf01e92",
        "colab": {
          "base_uri": "https://localhost:8080/",
          "height": 34
        }
      },
      "source": [
        "# Find the indexes with the maximum values down the verticial axis of one of the arrays you created\n",
        "np.argmax(A,axis=1)"
      ],
      "execution_count": null,
      "outputs": [
        {
          "output_type": "execute_result",
          "data": {
            "text/plain": [
              "array([0, 1, 1])"
            ]
          },
          "metadata": {
            "tags": []
          },
          "execution_count": 33
        }
      ]
    },
    {
      "cell_type": "code",
      "metadata": {
        "id": "XLmNyQyi7GAD",
        "outputId": "a393c5a3-2715-4c84-a510-145228d68f61",
        "colab": {
          "base_uri": "https://localhost:8080/",
          "height": 34
        }
      },
      "source": [
        "# Find the indexes with the minimum values across the horizontal axis of one of the arrays you created\n",
        "np.argmax(A,axis=0)"
      ],
      "execution_count": null,
      "outputs": [
        {
          "output_type": "execute_result",
          "data": {
            "text/plain": [
              "array([0, 0, 2, 2])"
            ]
          },
          "metadata": {
            "tags": []
          },
          "execution_count": 34
        }
      ]
    }
  ]
}